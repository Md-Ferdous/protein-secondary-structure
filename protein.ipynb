{
  "nbformat": 4,
  "nbformat_minor": 0,
  "metadata": {
    "colab": {
      "name": "protein.ipynb",
      "provenance": [],
      "collapsed_sections": [],
      "machine_shape": "hm"
    },
    "kernelspec": {
      "name": "python3",
      "display_name": "Python 3"
    },
    "accelerator": "GPU"
  },
  "cells": [
    {
      "cell_type": "code",
      "metadata": {
        "id": "wn6c0zrkVfBY",
        "colab": {
          "base_uri": "https://localhost:8080/",
          "height": 34
        },
        "outputId": "de6a47a1-9644-415b-df5e-e6973e3423b7"
      },
      "source": [
        "from google.colab import drive\n",
        "drive.mount('/content/drive')"
      ],
      "execution_count": null,
      "outputs": [
        {
          "output_type": "stream",
          "text": [
            "Drive already mounted at /content/drive; to attempt to forcibly remount, call drive.mount(\"/content/drive\", force_remount=True).\n"
          ],
          "name": "stdout"
        }
      ]
    },
    {
      "cell_type": "code",
      "metadata": {
        "id": "D41h6RkFDZDX",
        "colab": {
          "base_uri": "https://localhost:8080/",
          "height": 1000
        },
        "outputId": "4fd2b46b-b967-4a58-8e42-c40ddbaf409e"
      },
      "source": [
        "import numpy as np\n",
        "from time import time\n",
        "from tensorflow.keras import optimizers, callbacks\n",
        "from timeit import default_timer as timer\n",
        " \n",
        "import pickle\n",
        "from sklearn.model_selection import train_test_split\n",
        "import sys\n",
        " \n",
        " \n",
        "from tensorflow.keras.models import Sequential\n",
        "from tensorflow.keras.layers import Dense, Activation, Dropout, Conv1D, AveragePooling1D, MaxPooling1D, TimeDistributed, LeakyReLU, BatchNormalization, Flatten\n",
        " \n",
        "from tensorflow.keras.regularizers import l2\n",
        " \n",
        "import tensorflow as tf\n",
        " \n",
        "filtered = True\n",
        " \n",
        "if filtered:\n",
        "    dataset_path = \"/content/drive/My Drive/cullpdb+profile_6133_filtered.npy\"\n",
        "    #dataset_path = \"cullpdb+profile_6133_filtered.npy\"\n",
        "else:\n",
        "    dataset_path = \"/content/drive/My Drive/cullpdb+profile_6133.npy\"\n",
        "    #dataset_path = \"cullpdb+profile_6133.npy\"\n",
        " \n",
        "cb513_path = \"/content/drive/My Drive/cb513+profile_split1.npy\"\n",
        "#cb513_path = \"cb513+profile_split1.npy\"\n",
        " \n",
        "sequence_len = 700\n",
        "total_features = 57\n",
        "amino_acid_residues = 21\n",
        "num_classes = 8\n",
        "cnn_width = 17\n",
        " #\"/content/drive/My Drive/cullpdb+profile_6133.npy\"\n",
        "def get_dataset(path=\"/content/drive/My Drive/cullpdb+profile_6133.npy\"):\n",
        "    ds = np.load(path)\n",
        "    ds = np.reshape(ds, (ds.shape[0], sequence_len, total_features))\n",
        "    ret = np.zeros((ds.shape[0], ds.shape[1], amino_acid_residues + num_classes))\n",
        "    ret[:, :, 0:amino_acid_residues] = ds[:, :, 35:56]\n",
        "    ret[:, :, amino_acid_residues:] = ds[:, :, amino_acid_residues + 1:amino_acid_residues+ 1 + num_classes]\n",
        "    return ret\n",
        " \n",
        "def get_data_labels(D):\n",
        "    X = D[:, :, 0:amino_acid_residues]\n",
        "    Y = D[:, :, amino_acid_residues:amino_acid_residues + num_classes]\n",
        "    return X, Y\n",
        " \n",
        "def resphape_labels(labels):\n",
        "    Y = np.reshape(labels, (labels.shape[0]*labels.shape[1], labels.shape[2]))\n",
        "    Y = Y[~np.all(Y == 0, axis=1)]\n",
        "    return Y\n",
        " \n",
        "def reshape_data(X):\n",
        "    padding = np.zeros((X.shape[0], X.shape[2], int(cnn_width/2)))\n",
        "    X = np.dstack((padding, np.swapaxes(X, 1, 2), padding))\n",
        "    X = np.swapaxes(X, 1, 2)\n",
        "    res = np.zeros((X.shape[0], X.shape[1] - cnn_width + 1, cnn_width, amino_acid_residues))\n",
        "    for i in range(X.shape[1] - cnn_width + 1):\n",
        "        res[:, i, :, :] = X[:, i:i+cnn_width, :]\n",
        "    res = np.reshape(res, (X.shape[0]*(X.shape[1] - cnn_width + 1), cnn_width, amino_acid_residues))\n",
        "    res = res[np.count_nonzero(res, axis=(1,2))>(int(cnn_width/2)*amino_acid_residues), :, :]\n",
        "    return res\n",
        " \n",
        "def get_dataset_reshaped(seed=None):\n",
        "    D = get_dataset(dataset_path)\n",
        "    Train, Test, Validation = split_dataset(D, seed)\n",
        "    X_te, Y_te = get_data_labels(Test)\n",
        "    X_tr, Y_tr = get_data_labels(Train)\n",
        "    X_v, Y_v = get_data_labels(Validation)\n",
        " \n",
        "    X_train = reshape_data(X_tr)\n",
        "    X_test = reshape_data(X_te)\n",
        "    X_validation = reshape_data(X_v)\n",
        " \n",
        "    Y_train = resphape_labels(Y_tr)\n",
        "    Y_test = resphape_labels(Y_te)\n",
        "    Y_validation = resphape_labels(Y_v)\n",
        " \n",
        "    return X_train, X_validation, X_test, Y_train, Y_validation, Y_test\n",
        " \n",
        "def split_dataset(Dataset, seed=None):\n",
        "    np.random.seed(seed)\n",
        "    np.random.shuffle(Dataset)\n",
        "    train_split = int(Dataset.shape[0]*0.8)\n",
        "    test_val_split = int(Dataset.shape[0]*0.1)\n",
        "    Train = Dataset[0:train_split, :, :]\n",
        "    Test = Dataset[train_split:train_split+test_val_split, :, :]\n",
        "    Validation = Dataset[train_split+test_val_split:, :, :]\n",
        "    return Train, Test, Validation\n",
        " \n",
        "def split_like_paper(Dataset, seed=None):\n",
        "   \n",
        "    if seed is not None:\n",
        "        np.random.seed(seed)\n",
        "        np.random.shuffle(Dataset)\n",
        "    Train = Dataset[0:5600, :, :]\n",
        "    Test = Dataset[5600:5877, :, :]\n",
        "    Validation = Dataset[5877:, :, :]\n",
        "    return Train, Test, Validation\n",
        " \n",
        "def get_resphaped_dataset_paper():\n",
        "    D = get_dataset()\n",
        "    Train, Test, Validation = split_like_paper(D)\n",
        "    X_te, Y_te = get_data_labels(Test)\n",
        "    X_tr, Y_tr = get_data_labels(Train)\n",
        "    X_v, Y_v = get_data_labels(Validation)\n",
        " \n",
        "    X_train = reshape_data(X_tr)\n",
        "    X_test = reshape_data(X_te)\n",
        "    X_validation = reshape_data(X_v)\n",
        " \n",
        "    Y_train = resphape_labels(Y_tr)\n",
        "    Y_test = resphape_labels(Y_te)\n",
        "    Y_validation = resphape_labels(Y_v)\n",
        " \n",
        "    return X_train, X_validation, X_test, Y_train, Y_validation, Y_test\n",
        " \n",
        "def get_cb513():\n",
        "    CB = get_dataset(cb513_path)\n",
        "    X, Y = get_data_labels(CB)\n",
        "    return reshape_data(X), resphape_labels(Y)\n",
        " \n",
        "do_log = True\n",
        "stop_early = False\n",
        "show_plots = True\n",
        " \n",
        "start_time = timer()\n",
        " \n",
        "print(\"Collecting Dataset...\")\n",
        " \n",
        "if filtered:\n",
        "    # Split the dataset in 0.8 train, 0.1 test, 0.1 validation with shuffle (optionally seed)\n",
        "    X_train, X_val, X_test, Y_train, Y_val, Y_test = get_dataset_reshaped(seed=100)\n",
        "else:\n",
        "    # Slit the dataset with the same indexes used in the paper (Only for CullPDB6133 not filtered)\n",
        "    X_train, X_val, X_test, Y_train, Y_val, Y_test = get_resphaped_dataset_paper()\n",
        " \n",
        "end_time = timer()\n",
        "print(\"\\n\\nTime elapsed getting Dataset: \" + \"{0:.2f}\".format((end_time - start_time)) + \" s\")\n",
        " \n",
        "if filtered:\n",
        "    print(\"Using CullPDB Filtered dataset\")\n",
        " \n",
        " \n",
        "LR = 0.0009 \n",
        "drop_out = 0.38\n",
        "batch_dim = 64\n",
        "nn_epochs = 35\n",
        " \n",
        "#loss = 'categorical_hinge'\n",
        "loss = 'categorical_crossentropy' \n",
        "#loss = 'mean_absolute_error' \n",
        "#loss = 'mean_squared_logarithmic_error'\n",
        " \n",
        "\n",
        "def CNN_model():\n",
        "    m = Sequential()\n",
        "    m.add(Conv1D(128, 5, padding='same', activation='relu', input_shape=(cnn_width, amino_acid_residues)))\n",
        "    m.add(BatchNormalization())\n",
        "    # m.add(MaxPooling1D(pool_size=2))\n",
        "    m.add(Dropout(drop_out))\n",
        "    m.add(Conv1D(128, 3, padding='same', activation='relu'))\n",
        "    m.add(BatchNormalization())\n",
        "    # m.add(MaxPooling1D(pool_size=2))\n",
        "    m.add(Dropout(drop_out))\n",
        "    m.add(Conv1D(64, 3, padding='same', activation='relu'))\n",
        "    m.add(BatchNormalization())\n",
        "    # m.add(MaxPooling1D(pool_size=2))\n",
        "    m.add(Dropout(drop_out))\n",
        "    # m.add(Conv1D(32, 3, padding='same', activation='relu'))\n",
        "    # m.add(BatchNormalization())\n",
        "    # m.add(MaxPooling1D(pool_size=2))\n",
        "    # m.add(Dropout(drop_out))\n",
        "    m.add(Flatten())\n",
        "    m.add(Dense(128, activation='relu'))\n",
        "    m.add(Dense(32, activation='relu'))\n",
        "    m.add(Dense(num_classes, activation = 'softmax'))\n",
        "    opt = optimizers.Adam(lr=LR)\n",
        "    m.compile(optimizer=opt,\n",
        "              loss=loss,\n",
        "              metrics=['accuracy', 'mae'])\n",
        "    \n",
        "    return m\n",
        " \n",
        " \n",
        " \n",
        "net = CNN_model()\n",
        "print(net.summary())\n",
        "history = net.fit(X_train, Y_train, epochs=nn_epochs, batch_size=batch_dim, shuffle=True,\n",
        "                        validation_data=(X_val, Y_val))\n",
        " \n",
        "scores = net.evaluate(X_test, Y_test)\n",
        "print(\"Loss: \" + str(scores[0]) + \", Accuracy: \" + str(scores[1]) + \", MAE: \" + str(scores[2]))"
      ],
      "execution_count": null,
      "outputs": [
        {
          "output_type": "stream",
          "text": [
            "Collecting Dataset...\n",
            "\n",
            "\n",
            "Time elapsed getting Dataset: 20.13 s\n",
            "Using CullPDB Filtered dataset\n",
            "Model: \"sequential\"\n",
            "_________________________________________________________________\n",
            "Layer (type)                 Output Shape              Param #   \n",
            "=================================================================\n",
            "conv1d (Conv1D)              (None, 17, 128)           13568     \n",
            "_________________________________________________________________\n",
            "batch_normalization (BatchNo (None, 17, 128)           512       \n",
            "_________________________________________________________________\n",
            "dropout (Dropout)            (None, 17, 128)           0         \n",
            "_________________________________________________________________\n",
            "conv1d_1 (Conv1D)            (None, 17, 128)           49280     \n",
            "_________________________________________________________________\n",
            "batch_normalization_1 (Batch (None, 17, 128)           512       \n",
            "_________________________________________________________________\n",
            "dropout_1 (Dropout)          (None, 17, 128)           0         \n",
            "_________________________________________________________________\n",
            "conv1d_2 (Conv1D)            (None, 17, 64)            24640     \n",
            "_________________________________________________________________\n",
            "batch_normalization_2 (Batch (None, 17, 64)            256       \n",
            "_________________________________________________________________\n",
            "dropout_2 (Dropout)          (None, 17, 64)            0         \n",
            "_________________________________________________________________\n",
            "flatten (Flatten)            (None, 1088)              0         \n",
            "_________________________________________________________________\n",
            "dense (Dense)                (None, 128)               139392    \n",
            "_________________________________________________________________\n",
            "dense_1 (Dense)              (None, 32)                4128      \n",
            "_________________________________________________________________\n",
            "dense_2 (Dense)              (None, 8)                 264       \n",
            "=================================================================\n",
            "Total params: 232,552\n",
            "Trainable params: 231,912\n",
            "Non-trainable params: 640\n",
            "_________________________________________________________________\n",
            "None\n",
            "Epoch 1/35\n",
            "14801/14801 [==============================] - 96s 6ms/step - loss: 0.9367 - accuracy: 0.6620 - mae: 0.1105 - val_loss: 0.8577 - val_accuracy: 0.6875 - val_mae: 0.1019\n",
            "Epoch 2/35\n",
            "14801/14801 [==============================] - 97s 7ms/step - loss: 0.8707 - accuracy: 0.6854 - mae: 0.1040 - val_loss: 0.8396 - val_accuracy: 0.6921 - val_mae: 0.0991\n",
            "Epoch 3/35\n",
            "14801/14801 [==============================] - 96s 6ms/step - loss: 0.8509 - accuracy: 0.6921 - mae: 0.1020 - val_loss: 0.8223 - val_accuracy: 0.7012 - val_mae: 0.0977\n",
            "Epoch 4/35\n",
            "14801/14801 [==============================] - 95s 6ms/step - loss: 0.8394 - accuracy: 0.6961 - mae: 0.1008 - val_loss: 0.8136 - val_accuracy: 0.7025 - val_mae: 0.0968\n",
            "Epoch 5/35\n",
            "14801/14801 [==============================] - 97s 7ms/step - loss: 0.8318 - accuracy: 0.6984 - mae: 0.1000 - val_loss: 0.8075 - val_accuracy: 0.7039 - val_mae: 0.0984\n",
            "Epoch 6/35\n",
            "14801/14801 [==============================] - 95s 6ms/step - loss: 0.8256 - accuracy: 0.7007 - mae: 0.0993 - val_loss: 0.8047 - val_accuracy: 0.7070 - val_mae: 0.0981\n",
            "Epoch 7/35\n",
            "14801/14801 [==============================] - 95s 6ms/step - loss: 0.8209 - accuracy: 0.7022 - mae: 0.0988 - val_loss: 0.8000 - val_accuracy: 0.7092 - val_mae: 0.0978\n",
            "Epoch 8/35\n",
            "14801/14801 [==============================] - 97s 7ms/step - loss: 0.8175 - accuracy: 0.7035 - mae: 0.0984 - val_loss: 0.7987 - val_accuracy: 0.7085 - val_mae: 0.0979\n",
            "Epoch 9/35\n",
            "14801/14801 [==============================] - 95s 6ms/step - loss: 0.8143 - accuracy: 0.7044 - mae: 0.0981 - val_loss: 0.7992 - val_accuracy: 0.7088 - val_mae: 0.0950\n",
            "Epoch 10/35\n",
            "14801/14801 [==============================] - 95s 6ms/step - loss: 0.8120 - accuracy: 0.7054 - mae: 0.0978 - val_loss: 0.7935 - val_accuracy: 0.7112 - val_mae: 0.0947\n",
            "Epoch 11/35\n",
            "14801/14801 [==============================] - 95s 6ms/step - loss: 0.8092 - accuracy: 0.7058 - mae: 0.0976 - val_loss: 0.7949 - val_accuracy: 0.7104 - val_mae: 0.0949\n",
            "Epoch 12/35\n",
            "14801/14801 [==============================] - 93s 6ms/step - loss: 0.8079 - accuracy: 0.7070 - mae: 0.0974 - val_loss: 0.7933 - val_accuracy: 0.7105 - val_mae: 0.0941\n",
            "Epoch 13/35\n",
            "14801/14801 [==============================] - 93s 6ms/step - loss: 0.8058 - accuracy: 0.7077 - mae: 0.0972 - val_loss: 0.7918 - val_accuracy: 0.7118 - val_mae: 0.0935\n",
            "Epoch 14/35\n",
            "14801/14801 [==============================] - 94s 6ms/step - loss: 0.8037 - accuracy: 0.7082 - mae: 0.0970 - val_loss: 0.7902 - val_accuracy: 0.7127 - val_mae: 0.0934\n",
            "Epoch 15/35\n",
            "14801/14801 [==============================] - 96s 6ms/step - loss: 0.8026 - accuracy: 0.7089 - mae: 0.0968 - val_loss: 0.7945 - val_accuracy: 0.7114 - val_mae: 0.0924\n",
            "Epoch 16/35\n",
            "14801/14801 [==============================] - 94s 6ms/step - loss: 0.8008 - accuracy: 0.7092 - mae: 0.0966 - val_loss: 0.7913 - val_accuracy: 0.7112 - val_mae: 0.0956\n",
            "Epoch 17/35\n",
            "14801/14801 [==============================] - 94s 6ms/step - loss: 0.7999 - accuracy: 0.7093 - mae: 0.0965 - val_loss: 0.7927 - val_accuracy: 0.7130 - val_mae: 0.0936\n",
            "Epoch 18/35\n",
            "14801/14801 [==============================] - 95s 6ms/step - loss: 0.7988 - accuracy: 0.7096 - mae: 0.0964 - val_loss: 0.7857 - val_accuracy: 0.7133 - val_mae: 0.0943\n",
            "Epoch 19/35\n",
            "14801/14801 [==============================] - 94s 6ms/step - loss: 0.7984 - accuracy: 0.7102 - mae: 0.0964 - val_loss: 0.7863 - val_accuracy: 0.7146 - val_mae: 0.0951\n",
            "Epoch 20/35\n",
            "14801/14801 [==============================] - 94s 6ms/step - loss: 0.7966 - accuracy: 0.7103 - mae: 0.0962 - val_loss: 0.7860 - val_accuracy: 0.7141 - val_mae: 0.0944\n",
            "Epoch 21/35\n",
            "14801/14801 [==============================] - 96s 6ms/step - loss: 0.7959 - accuracy: 0.7112 - mae: 0.0961 - val_loss: 0.7880 - val_accuracy: 0.7129 - val_mae: 0.0958\n",
            "Epoch 22/35\n",
            "14801/14801 [==============================] - 94s 6ms/step - loss: 0.7948 - accuracy: 0.7113 - mae: 0.0959 - val_loss: 0.7849 - val_accuracy: 0.7152 - val_mae: 0.0944\n",
            "Epoch 23/35\n",
            "14801/14801 [==============================] - 94s 6ms/step - loss: 0.7946 - accuracy: 0.7113 - mae: 0.0959 - val_loss: 0.7813 - val_accuracy: 0.7158 - val_mae: 0.0945\n",
            "Epoch 24/35\n",
            "14801/14801 [==============================] - 95s 6ms/step - loss: 0.7940 - accuracy: 0.7118 - mae: 0.0959 - val_loss: 0.7855 - val_accuracy: 0.7138 - val_mae: 0.0954\n",
            "Epoch 25/35\n",
            "14801/14801 [==============================] - 95s 6ms/step - loss: 0.7919 - accuracy: 0.7123 - mae: 0.0957 - val_loss: 0.7865 - val_accuracy: 0.7153 - val_mae: 0.0950\n",
            "Epoch 26/35\n",
            "14801/14801 [==============================] - 94s 6ms/step - loss: 0.7926 - accuracy: 0.7119 - mae: 0.0957 - val_loss: 0.7816 - val_accuracy: 0.7159 - val_mae: 0.0946\n",
            "Epoch 27/35\n",
            "14801/14801 [==============================] - 94s 6ms/step - loss: 0.7915 - accuracy: 0.7124 - mae: 0.0956 - val_loss: 0.7837 - val_accuracy: 0.7147 - val_mae: 0.0947\n",
            "Epoch 28/35\n",
            "14801/14801 [==============================] - 96s 6ms/step - loss: 0.7912 - accuracy: 0.7130 - mae: 0.0955 - val_loss: 0.7839 - val_accuracy: 0.7147 - val_mae: 0.0944\n",
            "Epoch 29/35\n",
            "14801/14801 [==============================] - 94s 6ms/step - loss: 0.7897 - accuracy: 0.7130 - mae: 0.0954 - val_loss: 0.7823 - val_accuracy: 0.7158 - val_mae: 0.0941\n",
            "Epoch 30/35\n",
            "14801/14801 [==============================] - 93s 6ms/step - loss: 0.7898 - accuracy: 0.7131 - mae: 0.0954 - val_loss: 0.7856 - val_accuracy: 0.7158 - val_mae: 0.0913\n",
            "Epoch 31/35\n",
            "14801/14801 [==============================] - 95s 6ms/step - loss: 0.7891 - accuracy: 0.7135 - mae: 0.0953 - val_loss: 0.7826 - val_accuracy: 0.7162 - val_mae: 0.0930\n",
            "Epoch 32/35\n",
            "14801/14801 [==============================] - 94s 6ms/step - loss: 0.7886 - accuracy: 0.7135 - mae: 0.0953 - val_loss: 0.7809 - val_accuracy: 0.7153 - val_mae: 0.0947\n",
            "Epoch 33/35\n",
            "14801/14801 [==============================] - 93s 6ms/step - loss: 0.7886 - accuracy: 0.7137 - mae: 0.0953 - val_loss: 0.7853 - val_accuracy: 0.7159 - val_mae: 0.0925\n",
            "Epoch 34/35\n",
            "14801/14801 [==============================] - 95s 6ms/step - loss: 0.7873 - accuracy: 0.7140 - mae: 0.0951 - val_loss: 0.7826 - val_accuracy: 0.7169 - val_mae: 0.0936\n",
            "Epoch 35/35\n",
            "14801/14801 [==============================] - 95s 6ms/step - loss: 0.7870 - accuracy: 0.7137 - mae: 0.0951 - val_loss: 0.7806 - val_accuracy: 0.7167 - val_mae: 0.0935\n",
            "3592/3592 [==============================] - 11s 3ms/step - loss: 0.7826 - accuracy: 0.7167 - mae: 0.0928\n",
            "Loss: 0.7825567722320557, Accuracy: 0.7166807055473328, MAE: 0.09282859414815903\n"
          ],
          "name": "stdout"
        }
      ]
    },
    {
      "cell_type": "code",
      "metadata": {
        "id": "rnofXHiR8R9z",
        "colab": {
          "base_uri": "https://localhost:8080/",
          "height": 300
        },
        "outputId": "1573af84-064d-4642-8aec-247f99f23bb2"
      },
      "source": [
        "import matplotlib.pyplot as plt\n",
        "plt.plot(history.history['accuracy'], label='accuracy')\n",
        "plt.plot(history.history['val_accuracy'], label = 'val_accuracy')\n",
        "plt.xlabel('Epoch')\n",
        "plt.ylabel('Accuracy')\n",
        "plt.ylim([0.67, 0.72])\n",
        "plt.legend(loc='lower right')"
      ],
      "execution_count": null,
      "outputs": [
        {
          "output_type": "execute_result",
          "data": {
            "text/plain": [
              "<matplotlib.legend.Legend at 0x7f3b023c5eb8>"
            ]
          },
          "metadata": {
            "tags": []
          },
          "execution_count": 21
        },
        {
          "output_type": "display_data",
          "data": {
            "image/png": "[encoded data removed]",
            "text/plain": [
              "<Figure size 432x288 with 1 Axes>"
            ]
          },
          "metadata": {
            "tags": [],
            "needs_background": "light"
          }
        }
      ]
    },
    {
      "cell_type": "code",
      "metadata": {
        "id": "2u9BDJECdO7J",
        "colab": {
          "base_uri": "https://localhost:8080/",
          "height": 300
        },
        "outputId": "f3c7a4cc-ed46-4129-ab58-c6588eec4361"
      },
      "source": [
        "import matplotlib.pyplot as plt\n",
        "plt.plot(history.history['loss'], label='loss')\n",
        "plt.plot(history.history['val_loss'], label = 'val_loss')\n",
        "plt.xlabel('Epoch')\n",
        "plt.ylabel('Loss')\n",
        "plt.ylim([0.78, 0.92])\n",
        "plt.legend(loc='upper right')"
      ],
      "execution_count": null,
      "outputs": [
        {
          "output_type": "execute_result",
          "data": {
            "text/plain": [
              "<matplotlib.legend.Legend at 0x7f3b022b4da0>"
            ]
          },
          "metadata": {
            "tags": []
          },
          "execution_count": 24
        },
        {
          "output_type": "display_data",
          "data": {
            "image/png": "[encoded data removed]",
            "text/plain": [
              "<Figure size 432x288 with 1 Axes>"
            ]
          },
          "metadata": {
            "tags": [],
            "needs_background": "light"
          }
        }
      ]
    },
    {
      "cell_type": "code",
      "metadata": {
        "id": "lOA3-TLYdPWH",
        "colab": {
          "base_uri": "https://localhost:8080/",
          "height": 300
        },
        "outputId": "6c736d8b-08c4-497a-c2a2-fcb2f8f241af"
      },
      "source": [
        "import matplotlib.pyplot as plt\n",
        "plt.plot(history.history['mae'], label='mae')\n",
        "plt.plot(history.history['val_mae'], label = 'val_mae')\n",
        "plt.xlabel('Epoch')\n",
        "plt.ylabel('mae')\n",
        "plt.xlim([0,35])\n",
        "plt.ylim([0.09, 0.11])\n",
        "plt.legend(loc='upper right')"
      ],
      "execution_count": null,
      "outputs": [
        {
          "output_type": "execute_result",
          "data": {
            "text/plain": [
              "<matplotlib.legend.Legend at 0x7f3b0208a940>"
            ]
          },
          "metadata": {
            "tags": []
          },
          "execution_count": 32
        },
        {
          "output_type": "display_data",
          "data": {
            "image/png": "[encoded data removed]",
            "text/plain": [
              "<Figure size 432x288 with 1 Axes>"
            ]
          },
          "metadata": {
            "tags": [],
            "needs_background": "light"
          }
        }
      ]
    },
    {
      "cell_type": "code",
      "metadata": {
        "id": "FuD0dbFdA3s9",
        "colab": {
          "base_uri": "https://localhost:8080/",
          "height": 170
        },
        "outputId": "d37a4621-b550-4fc1-f81c-e57ff28071b3"
      },
      "source": [
        "net.predict(X_test[:4])"
      ],
      "execution_count": null,
      "outputs": [
        {
          "output_type": "execute_result",
          "data": {
            "text/plain": [
              "array([[1.0000000e+00, 0.0000000e+00, 1.8448757e-14, 0.0000000e+00,\n",
              "        0.0000000e+00, 6.4583396e-14, 1.2736949e-12, 1.2854980e-19],\n",
              "       [6.7667484e-01, 5.3119272e-02, 1.8703869e-01, 3.6125409e-03,\n",
              "        0.0000000e+00, 6.8550088e-02, 1.9633130e-06, 1.1002660e-02],\n",
              "       [4.2325869e-01, 9.7242352e-03, 4.5852503e-01, 1.6479718e-02,\n",
              "        7.9492662e-10, 1.5315614e-02, 5.0149240e-02, 2.6547477e-02],\n",
              "       [4.3714058e-01, 8.2430206e-03, 3.1589249e-01, 1.8137129e-02,\n",
              "        2.3967366e-06, 1.2579091e-01, 5.5085428e-02, 3.9708037e-02]],\n",
              "      dtype=float32)"
            ]
          },
          "metadata": {
            "tags": []
          },
          "execution_count": 12
        }
      ]
    },
    {
      "cell_type": "code",
      "metadata": {
        "id": "VFHonYLaBI5-",
        "colab": {
          "base_uri": "https://localhost:8080/",
          "height": 85
        },
        "outputId": "1b70e7fa-a55a-4628-b697-e70de9977f34"
      },
      "source": [
        "Y_test[:4]"
      ],
      "execution_count": null,
      "outputs": [
        {
          "output_type": "execute_result",
          "data": {
            "text/plain": [
              "array([[1., 0., 0., 0., 0., 0., 0., 0.],\n",
              "       [1., 0., 0., 0., 0., 0., 0., 0.],\n",
              "       [1., 0., 0., 0., 0., 0., 0., 0.],\n",
              "       [1., 0., 0., 0., 0., 0., 0., 0.]])"
            ]
          },
          "metadata": {
            "tags": []
          },
          "execution_count": 13
        }
      ]
    },
    {
      "cell_type": "code",
      "metadata": {
        "id": "OspovP3inB4L"
      },
      "source": [
        "net.save(\"my_model.h5\")"
      ],
      "execution_count": null,
      "outputs": []
    },
    {
      "cell_type": "code",
      "metadata": {
        "id": "KpDg9HyUnCHQ",
        "colab": {
          "base_uri": "https://localhost:8080/",
          "height": 1000
        },
        "outputId": "71cc59ed-f304-4cf7-e90a-d6617654c2c2"
      },
      "source": [
        "import numpy as np\n",
        "\n",
        "filtered = True\n",
        " \n",
        "if filtered:\n",
        "    dataset_path = \"/content/drive/My Drive/cullpdb+profile_6133_filtered.npy\"\n",
        "    #dataset_path = \"cullpdb+profile_6133_filtered.npy\"\n",
        "else:\n",
        "    dataset_path = \"/content/drive/My Drive/cullpdb+profile_6133.npy\"\n",
        "    #dataset_path = \"cullpdb+profile_6133.npy\"\n",
        " \n",
        "cb513_path = \"/content/drive/My Drive/cb513+profile_split1.npy\"\n",
        "#cb513_path = \"cb513+profile_split1.npy\"\n",
        " \n",
        "sequence_len = 700\n",
        "total_features = 57\n",
        "amino_acid_residues = 21\n",
        "num_classes = 8\n",
        "cnn_width = 17\n",
        "path=\"/content/drive/My Drive/cullpdb+profile_6133.npy\"\n",
        "ds = np.load(path)\n",
        "print(ds.shape)\n",
        "print(ds.shape[0])\n",
        "print(ds.shape[1])\n",
        "ds = np.reshape(ds, (ds.shape[0], sequence_len, total_features))\n",
        "ret = np.zeros((ds.shape[0], ds.shape[1], amino_acid_residues + num_classes))\n",
        "ret[:, :, 0:amino_acid_residues] = ds[:, :, 35:56]\n",
        "ret[:, :, amino_acid_residues:] = ds[:, :, amino_acid_residues + 1:amino_acid_residues+ 1 + num_classes]\n",
        "D = ret\n",
        "np.random.seed()\n",
        "np.random.shuffle(D)\n",
        "train_split = int(D.shape[0]*0.8)\n",
        "test_val_split = int(D.shape[0]*0.1)\n",
        "Train = D[0:train_split, :, :]\n",
        "Test = D[train_split:train_split+test_val_split, :, :]\n",
        "Validation = D[train_split+test_val_split:, :, :]\n",
        "X_tr = Train[:, :, 0:amino_acid_residues]\n",
        "Y_tr = Train[:, :, amino_acid_residues:amino_acid_residues + num_classes]\n",
        "print(Y_tr)\n",
        "X_te = Test[:, :, 0:amino_acid_residues]\n",
        "Y_te = Test[:, :, amino_acid_residues:amino_acid_residues + num_classes]\n",
        "X_v = Validation[:, :, 0:amino_acid_residues]\n",
        "Y_v = Validation[:, :, amino_acid_residues:amino_acid_residues + num_classes]\n",
        "print(X_tr.shape)\n",
        "print(Y_tr.shape)\n",
        "print(X_te.shape)\n",
        "print(Y_te.shape)\n",
        "print(X_v.shape)\n",
        "print(Y_v.shape)\n"
      ],
      "execution_count": null,
      "outputs": [
        {
          "output_type": "stream",
          "text": [
            "(6133, 39900)\n",
            "6133\n",
            "39900\n",
            "[[[1. 0. 0. ... 0. 0. 0.]\n",
            "  [1. 0. 0. ... 0. 0. 0.]\n",
            "  [1. 0. 0. ... 0. 0. 0.]\n",
            "  ...\n",
            "  [0. 0. 0. ... 0. 0. 0.]\n",
            "  [0. 0. 0. ... 0. 0. 0.]\n",
            "  [0. 0. 0. ... 0. 0. 0.]]\n",
            "\n",
            " [[1. 0. 0. ... 0. 0. 0.]\n",
            "  [1. 0. 0. ... 0. 0. 0.]\n",
            "  [1. 0. 0. ... 0. 0. 0.]\n",
            "  ...\n",
            "  [0. 0. 0. ... 0. 0. 0.]\n",
            "  [0. 0. 0. ... 0. 0. 0.]\n",
            "  [0. 0. 0. ... 0. 0. 0.]]\n",
            "\n",
            " [[1. 0. 0. ... 0. 0. 0.]\n",
            "  [1. 0. 0. ... 0. 0. 0.]\n",
            "  [0. 0. 0. ... 1. 0. 0.]\n",
            "  ...\n",
            "  [0. 0. 0. ... 0. 0. 0.]\n",
            "  [0. 0. 0. ... 0. 0. 0.]\n",
            "  [0. 0. 0. ... 0. 0. 0.]]\n",
            "\n",
            " ...\n",
            "\n",
            " [[1. 0. 0. ... 0. 0. 0.]\n",
            "  [1. 0. 0. ... 0. 0. 0.]\n",
            "  [1. 0. 0. ... 0. 0. 0.]\n",
            "  ...\n",
            "  [0. 0. 0. ... 0. 0. 0.]\n",
            "  [0. 0. 0. ... 0. 0. 0.]\n",
            "  [0. 0. 0. ... 0. 0. 0.]]\n",
            "\n",
            " [[1. 0. 0. ... 0. 0. 0.]\n",
            "  [1. 0. 0. ... 0. 0. 0.]\n",
            "  [0. 0. 1. ... 0. 0. 0.]\n",
            "  ...\n",
            "  [0. 0. 0. ... 0. 0. 0.]\n",
            "  [0. 0. 0. ... 0. 0. 0.]\n",
            "  [0. 0. 0. ... 0. 0. 0.]]\n",
            "\n",
            " [[1. 0. 0. ... 0. 0. 0.]\n",
            "  [1. 0. 0. ... 0. 0. 0.]\n",
            "  [1. 0. 0. ... 0. 0. 0.]\n",
            "  ...\n",
            "  [0. 0. 0. ... 0. 0. 0.]\n",
            "  [0. 0. 0. ... 0. 0. 0.]\n",
            "  [0. 0. 0. ... 0. 0. 0.]]]\n",
            "(4906, 700, 21)\n",
            "(4906, 700, 8)\n",
            "(613, 700, 21)\n",
            "(613, 700, 8)\n",
            "(614, 700, 21)\n",
            "(614, 700, 8)\n"
          ],
          "name": "stdout"
        }
      ]
    },
    {
      "cell_type": "code",
      "metadata": {
        "id": "PnEmFZyWnCVf"
      },
      "source": [
        "def reshape_data(X):\n",
        "    padding = np.zeros((X.shape[0], X.shape[2], int(cnn_width/2)))\n",
        "    print(padding.shape)\n",
        "    X = np.dstack((padding, np.swapaxes(X, 1, 2), padding))\n",
        "    print(X.shape)\n",
        "    X = np.swapaxes(X, 1, 2)\n",
        "    print(X.shape)\n",
        "    res = np.zeros((X.shape[0], X.shape[1] - cnn_width + 1, cnn_width, amino_acid_residues))\n",
        "    print(res.shape)\n",
        "    for i in range(X.shape[1] - cnn_width + 1):\n",
        "        res[:, i, :, :] = X[:, i:i+cnn_width, :]\n",
        "    res = np.reshape(res, (X.shape[0]*(X.shape[1] - cnn_width + 1), cnn_width, amino_acid_residues))\n",
        "    print(\"1st:\",res.shape)\n",
        "    print(sum(np.count_nonzero(res, axis=(1,2))>(int(cnn_width/2)*amino_acid_residues)))\n",
        "    res = res[np.count_nonzero(res, axis=(1,2))>(int(cnn_width/2)*amino_acid_residues), :, :]\n",
        "    print(\"2nd\",res.shape)\n",
        "    return res"
      ],
      "execution_count": null,
      "outputs": []
    },
    {
      "cell_type": "code",
      "metadata": {
        "id": "sW6X9FBxs6tA"
      },
      "source": [
        "def resphape_labels(labels):\n",
        "    Y = np.reshape(labels, (labels.shape[0]*labels.shape[1], labels.shape[2]))\n",
        "   \n",
        "    Y = Y[~np.all(Y == 0, axis=1)]\n",
        "   \n",
        "    return Y"
      ],
      "execution_count": null,
      "outputs": []
    },
    {
      "cell_type": "code",
      "metadata": {
        "id": "BSKxI93fVMdl",
        "colab": {
          "base_uri": "https://localhost:8080/",
          "height": 68
        },
        "outputId": "ab1a3659-a079-42d7-8438-7e160f7719c3"
      },
      "source": [
        "a = np.array((1,2,3))\n",
        "b = np.array((2,3,4))\n",
        "np.dstack((a,b))"
      ],
      "execution_count": null,
      "outputs": [
        {
          "output_type": "execute_result",
          "data": {
            "text/plain": [
              "array([[[1, 2],\n",
              "        [2, 3],\n",
              "        [3, 4]]])"
            ]
          },
          "metadata": {
            "tags": []
          },
          "execution_count": 6
        }
      ]
    },
    {
      "cell_type": "code",
      "metadata": {
        "id": "LeSGL5vdnCcn",
        "colab": {
          "base_uri": "https://localhost:8080/",
          "height": 425
        },
        "outputId": "0ea2fcd2-f225-4a24-f911-b3c79317cfe1"
      },
      "source": [
        "X_train = reshape_data(X_tr)\n",
        "X_test = reshape_data(X_te)\n",
        "X_validation = reshape_data(X_v)\n",
        "print(X_train.shape)\n",
        "print(X_test.shape)\n",
        "print(X_validation.shape)"
      ],
      "execution_count": null,
      "outputs": [
        {
          "output_type": "stream",
          "text": [
            "(4906, 21, 8)\n",
            "(4906, 21, 716)\n",
            "(4906, 716, 21)\n",
            "(4906, 700, 17, 21)\n",
            "1st: (3434200, 17, 21)\n",
            "1021098\n",
            "2nd (1021098, 17, 21)\n",
            "(613, 21, 8)\n",
            "(613, 21, 716)\n",
            "(613, 716, 21)\n",
            "(613, 700, 17, 21)\n",
            "1st: (429100, 17, 21)\n",
            "126774\n",
            "2nd (126774, 17, 21)\n",
            "(614, 21, 8)\n",
            "(614, 21, 716)\n",
            "(614, 716, 21)\n",
            "(614, 700, 17, 21)\n",
            "1st: (429800, 17, 21)\n",
            "130462\n",
            "2nd (130462, 17, 21)\n",
            "(1021098, 17, 21)\n",
            "(126774, 17, 21)\n",
            "(130462, 17, 21)\n"
          ],
          "name": "stdout"
        }
      ]
    },
    {
      "cell_type": "code",
      "metadata": {
        "id": "yjRAIDL6Sanz"
      },
      "source": [
        "\n",
        "Y_train = resphape_labels(Y_tr)\n",
        "\n",
        "Y_test = resphape_labels(Y_te)\n",
        "Y_validation = resphape_labels(Y_v)\n",
        "#print(Y_validation)"
      ],
      "execution_count": null,
      "outputs": []
    },
    {
      "cell_type": "code",
      "metadata": {
        "id": "PLPa9K_LSare",
        "colab": {
          "base_uri": "https://localhost:8080/",
          "height": 51
        },
        "outputId": "93e02798-f1d2-4f1d-d1e3-53f3c876bd7b"
      },
      "source": [
        "Y = np.ones((2,8))\n",
        "print(Y)"
      ],
      "execution_count": null,
      "outputs": [
        {
          "output_type": "stream",
          "text": [
            "[[1. 1. 1. 1. 1. 1. 1. 1.]\n",
            " [1. 1. 1. 1. 1. 1. 1. 1.]]\n"
          ],
          "name": "stdout"
        }
      ]
    },
    {
      "cell_type": "code",
      "metadata": {
        "id": "hIK0UcwynCQJ"
      },
      "source": [
        "Y = Y[~np.all(Y == 0, axis=1)]"
      ],
      "execution_count": null,
      "outputs": []
    },
    {
      "cell_type": "code",
      "metadata": {
        "id": "8dY8OOYTnCLv",
        "colab": {
          "base_uri": "https://localhost:8080/",
          "height": 34
        },
        "outputId": "df7546e2-4214-4a10-b310-0d25258abc32"
      },
      "source": [
        "print(Y)"
      ],
      "execution_count": null,
      "outputs": [
        {
          "output_type": "stream",
          "text": [
            "[]\n"
          ],
          "name": "stdout"
        }
      ]
    },
    {
      "cell_type": "code",
      "metadata": {
        "id": "07BAUop6vkzd",
        "colab": {
          "base_uri": "https://localhost:8080/",
          "height": 34
        },
        "outputId": "01d50bcf-14e7-4fcf-cf55-e5cc1e16a8dc"
      },
      "source": [
        "np.all([[True,False],[True,True]], axis=1)"
      ],
      "execution_count": null,
      "outputs": [
        {
          "output_type": "execute_result",
          "data": {
            "text/plain": [
              "array([False,  True])"
            ]
          },
          "metadata": {
            "tags": []
          },
          "execution_count": 48
        }
      ]
    },
    {
      "cell_type": "code",
      "metadata": {
        "id": "TUZGtwcfzsI6",
        "colab": {
          "base_uri": "https://localhost:8080/",
          "height": 34
        },
        "outputId": "7598dc6c-8e8c-4bdb-eb92-0aff2cf0b049"
      },
      "source": [
        "x = [[1,2],[1,2]]\n",
        "print(x)"
      ],
      "execution_count": null,
      "outputs": [
        {
          "output_type": "stream",
          "text": [
            "[[1, 2], [1, 2]]\n"
          ],
          "name": "stdout"
        }
      ]
    },
    {
      "cell_type": "code",
      "metadata": {
        "id": "jYbKsXdzIVuD",
        "colab": {
          "base_uri": "https://localhost:8080/",
          "height": 1000
        },
        "outputId": "e52cf871-f579-4c3a-b950-de77ded9ef5f"
      },
      "source": [
        "from tensorflow.keras.models import Sequential\n",
        "from tensorflow.keras.layers import Conv1D, BatchNormalization, Dropout, Dense, Flatten\n",
        "from tensorflow.keras.regularizers import l2\n",
        "from tensorflow.keras import optimizers, callbacks\n",
        "import tensorflow as tf\n",
        "LR = 0.0009 \n",
        "drop_out = 0.38\n",
        "batch_dim = 64\n",
        "nn_epochs = 35\n",
        " \n",
        "#loss = 'categorical_hinge'\n",
        "loss = 'categorical_crossentropy' \n",
        "#loss = 'mean_absolute_error' \n",
        "#loss = 'mean_squared_logarithmic_error'\n",
        " \n",
        "\n",
        "def CNN_model():\n",
        "    m = Sequential()\n",
        "    m.add(Conv1D(128, 5, padding='same', activation='relu', input_shape=(cnn_width, amino_acid_residues)))\n",
        "    m.add(BatchNormalization())\n",
        "    # m.add(MaxPooling1D(pool_size=2))\n",
        "    m.add(Dropout(drop_out))\n",
        "    m.add(Conv1D(128, 3, padding='same', activation='relu'))\n",
        "    m.add(BatchNormalization())\n",
        "    # m.add(MaxPooling1D(pool_size=2))\n",
        "    m.add(Dropout(drop_out))\n",
        "    m.add(Conv1D(64, 3, padding='same', activation='relu'))\n",
        "    m.add(BatchNormalization())\n",
        "    # m.add(MaxPooling1D(pool_size=2))\n",
        "    m.add(Dropout(drop_out))\n",
        "    # m.add(Conv1D(32, 3, padding='same', activation='relu'))\n",
        "    # m.add(BatchNormalization())\n",
        "    # m.add(MaxPooling1D(pool_size=2))\n",
        "    # m.add(Dropout(drop_out))\n",
        "    m.add(Flatten())\n",
        "    m.add(Dense(128, activation='relu'))\n",
        "    m.add(Dense(32, activation='relu'))\n",
        "    m.add(Dense(num_classes, activation = 'softmax'))\n",
        "    opt = optimizers.Adam(lr=LR)\n",
        "    m.compile(optimizer=opt,\n",
        "              loss=loss,\n",
        "              metrics=['accuracy', 'mae'])\n",
        "    \n",
        "    return m\n",
        " \n",
        " \n",
        " \n",
        "net = CNN_model()\n",
        "print(net.summary())\n",
        "history = net.fit(X_train, Y_train, epochs=nn_epochs, batch_size=batch_dim, shuffle=True,\n",
        "                        validation_data=(X_validation, Y_validation))\n",
        " \n",
        "scores = net.evaluate(X_test, Y_test)\n",
        "print(\"Loss: \" + str(scores[0]) + \", Accuracy: \" + str(scores[1]) + \", MAE: \" + str(scores[2]))"
      ],
      "execution_count": null,
      "outputs": [
        {
          "output_type": "stream",
          "text": [
            "Model: \"sequential_3\"\n",
            "_________________________________________________________________\n",
            "Layer (type)                 Output Shape              Param #   \n",
            "=================================================================\n",
            "conv1d_6 (Conv1D)            (None, 17, 128)           13568     \n",
            "_________________________________________________________________\n",
            "batch_normalization_6 (Batch (None, 17, 128)           512       \n",
            "_________________________________________________________________\n",
            "dropout_6 (Dropout)          (None, 17, 128)           0         \n",
            "_________________________________________________________________\n",
            "conv1d_7 (Conv1D)            (None, 17, 128)           49280     \n",
            "_________________________________________________________________\n",
            "batch_normalization_7 (Batch (None, 17, 128)           512       \n",
            "_________________________________________________________________\n",
            "dropout_7 (Dropout)          (None, 17, 128)           0         \n",
            "_________________________________________________________________\n",
            "conv1d_8 (Conv1D)            (None, 17, 64)            24640     \n",
            "_________________________________________________________________\n",
            "batch_normalization_8 (Batch (None, 17, 64)            256       \n",
            "_________________________________________________________________\n",
            "dropout_8 (Dropout)          (None, 17, 64)            0         \n",
            "_________________________________________________________________\n",
            "flatten_2 (Flatten)          (None, 1088)              0         \n",
            "_________________________________________________________________\n",
            "dense_6 (Dense)              (None, 128)               139392    \n",
            "_________________________________________________________________\n",
            "dense_7 (Dense)              (None, 32)                4128      \n",
            "_________________________________________________________________\n",
            "dense_8 (Dense)              (None, 8)                 264       \n",
            "=================================================================\n",
            "Total params: 232,552\n",
            "Trainable params: 231,912\n",
            "Non-trainable params: 640\n",
            "_________________________________________________________________\n",
            "None\n",
            "Epoch 1/35\n",
            "15955/15955 [==============================] - 106s 7ms/step - loss: 0.9339 - accuracy: 0.6631 - mae: 0.1104 - val_loss: 0.8467 - val_accuracy: 0.6941 - val_mae: 0.1015\n",
            "Epoch 2/35\n",
            "15955/15955 [==============================] - 106s 7ms/step - loss: 0.8697 - accuracy: 0.6857 - mae: 0.1039 - val_loss: 0.8298 - val_accuracy: 0.7008 - val_mae: 0.0965\n",
            "Epoch 3/35\n",
            "15955/15955 [==============================] - 109s 7ms/step - loss: 0.8517 - accuracy: 0.6917 - mae: 0.1020 - val_loss: 0.8174 - val_accuracy: 0.7050 - val_mae: 0.0954\n",
            "Epoch 4/35\n",
            "15955/15955 [==============================] - 106s 7ms/step - loss: 0.8403 - accuracy: 0.6961 - mae: 0.1008 - val_loss: 0.8150 - val_accuracy: 0.7051 - val_mae: 0.0964\n",
            "Epoch 5/35\n",
            "15955/15955 [==============================] - 106s 7ms/step - loss: 0.8334 - accuracy: 0.6986 - mae: 0.1001 - val_loss: 0.8039 - val_accuracy: 0.7089 - val_mae: 0.0953\n",
            "Epoch 6/35\n",
            "15955/15955 [==============================] - 105s 7ms/step - loss: 0.8281 - accuracy: 0.7002 - mae: 0.0995 - val_loss: 0.8043 - val_accuracy: 0.7101 - val_mae: 0.0942\n",
            "Epoch 7/35\n",
            "15955/15955 [==============================] - 104s 7ms/step - loss: 0.8233 - accuracy: 0.7017 - mae: 0.0990 - val_loss: 0.7995 - val_accuracy: 0.7109 - val_mae: 0.0934\n",
            "Epoch 8/35\n",
            "15955/15955 [==============================] - 106s 7ms/step - loss: 0.8191 - accuracy: 0.7031 - mae: 0.0986 - val_loss: 0.7919 - val_accuracy: 0.7137 - val_mae: 0.0942\n",
            "Epoch 9/35\n",
            "15955/15955 [==============================] - 106s 7ms/step - loss: 0.8158 - accuracy: 0.7043 - mae: 0.0982 - val_loss: 0.7906 - val_accuracy: 0.7148 - val_mae: 0.0957\n",
            "Epoch 10/35\n",
            "15955/15955 [==============================] - 105s 7ms/step - loss: 0.8137 - accuracy: 0.7048 - mae: 0.0980 - val_loss: 0.7927 - val_accuracy: 0.7148 - val_mae: 0.0919\n",
            "Epoch 11/35\n",
            "15955/15955 [==============================] - 106s 7ms/step - loss: 0.8115 - accuracy: 0.7054 - mae: 0.0978 - val_loss: 0.7930 - val_accuracy: 0.7137 - val_mae: 0.0940\n",
            "Epoch 12/35\n",
            "15955/15955 [==============================] - 106s 7ms/step - loss: 0.8090 - accuracy: 0.7064 - mae: 0.0975 - val_loss: 0.7919 - val_accuracy: 0.7148 - val_mae: 0.0933\n",
            "Epoch 13/35\n",
            "15955/15955 [==============================] - 105s 7ms/step - loss: 0.8077 - accuracy: 0.7069 - mae: 0.0974 - val_loss: 0.7897 - val_accuracy: 0.7143 - val_mae: 0.0945\n",
            "Epoch 14/35\n",
            "15955/15955 [==============================] - 106s 7ms/step - loss: 0.8063 - accuracy: 0.7072 - mae: 0.0972 - val_loss: 0.7913 - val_accuracy: 0.7159 - val_mae: 0.0917\n",
            "Epoch 15/35\n",
            "15955/15955 [==============================] - 104s 7ms/step - loss: 0.8042 - accuracy: 0.7085 - mae: 0.0970 - val_loss: 0.7946 - val_accuracy: 0.7137 - val_mae: 0.0925\n",
            "Epoch 16/35\n",
            "15955/15955 [==============================] - 105s 7ms/step - loss: 0.8032 - accuracy: 0.7086 - mae: 0.0969 - val_loss: 0.7879 - val_accuracy: 0.7163 - val_mae: 0.0948\n",
            "Epoch 17/35\n",
            "15955/15955 [==============================] - 106s 7ms/step - loss: 0.8021 - accuracy: 0.7090 - mae: 0.0968 - val_loss: 0.7839 - val_accuracy: 0.7165 - val_mae: 0.0936\n",
            "Epoch 18/35\n",
            "15951/15955 [============================>.] - ETA: 0s - loss: 0.8016 - accuracy: 0.7091 - mae: 0.0967"
          ],
          "name": "stdout"
        }
      ]
    },
    {
      "cell_type": "code",
      "metadata": {
        "id": "8OQ_xRDyqsLr",
        "colab": {
          "base_uri": "https://localhost:8080/",
          "height": 1000
        },
        "outputId": "89dbb2a2-acf3-445a-b61e-9817521749e8"
      },
      "source": [
        "import numpy as np\n",
        "from time import time\n",
        "from tensorflow.keras import optimizers, callbacks\n",
        "from timeit import default_timer as timer\n",
        " \n",
        "import pickle\n",
        "from sklearn.model_selection import train_test_split\n",
        "import sys\n",
        " \n",
        " \n",
        "from tensorflow.keras.models import Sequential\n",
        "from tensorflow.keras.layers import Dense, Activation, Dropout, Conv1D, AveragePooling1D, MaxPooling1D, TimeDistributed, LeakyReLU, BatchNormalization, Flatten\n",
        " \n",
        "from tensorflow.keras.regularizers import l2\n",
        " \n",
        "import tensorflow as tf\n",
        " \n",
        "filtered = True\n",
        " \n",
        "if filtered:\n",
        "    dataset_path = \"/content/drive/My Drive/cullpdb+profile_6133_filtered.npy\"\n",
        "    #dataset_path = \"cullpdb+profile_6133_filtered.npy\"\n",
        "else:\n",
        "    dataset_path = \"/content/drive/My Drive/cullpdb+profile_6133.npy\"\n",
        "    #dataset_path = \"cullpdb+profile_6133.npy\"\n",
        " \n",
        "\n",
        " \n",
        "sequence_len = 700\n",
        "total_features = 57\n",
        "amino_acid_residues = 21\n",
        "num_classes = 8\n",
        "cnn_width = 17\n",
        " #\"/content/drive/My Drive/cullpdb+profile_6133.npy\"\n",
        "def get_dataset(path):\n",
        "    ds = np.load(path)\n",
        "    ds = np.reshape(ds, (ds.shape[0], sequence_len, total_features))\n",
        "    ret = np.zeros((ds.shape[0], ds.shape[1], amino_acid_residues + num_classes))\n",
        "    ret[:, :, 0:amino_acid_residues] = ds[:, :, 35:56]\n",
        "    ret[:, :, amino_acid_residues:] = ds[:, :, amino_acid_residues + 1:amino_acid_residues+ 1 + num_classes]\n",
        "    return ret\n",
        " \n",
        "def get_data_labels(D):\n",
        "    X = D[:, :, 0:amino_acid_residues]\n",
        "    Y = D[:, :, amino_acid_residues:amino_acid_residues + num_classes]\n",
        "    return X, Y\n",
        " \n",
        "def resphape_labels(labels):\n",
        "    Y = np.reshape(labels, (labels.shape[0]*labels.shape[1], labels.shape[2]))\n",
        "    Y = Y[~np.all(Y == 0, axis=1)]\n",
        "    return Y\n",
        " \n",
        "def reshape_data(X):\n",
        "    padding = np.zeros((X.shape[0], X.shape[2], int(cnn_width/2)))\n",
        "    X = np.dstack((padding, np.swapaxes(X, 1, 2), padding))\n",
        "    X = np.swapaxes(X, 1, 2)\n",
        "    res = np.zeros((X.shape[0], X.shape[1] - cnn_width + 1, cnn_width, amino_acid_residues))\n",
        "    for i in range(X.shape[1] - cnn_width + 1):\n",
        "        res[:, i, :, :] = X[:, i:i+cnn_width, :]\n",
        "    res = np.reshape(res, (X.shape[0]*(X.shape[1] - cnn_width + 1), cnn_width, amino_acid_residues))\n",
        "    res = res[np.count_nonzero(res, axis=(1,2))>(int(cnn_width/2)*amino_acid_residues), :, :]\n",
        "    return res\n",
        " \n",
        "def get_dataset_reshaped(seed=None):\n",
        "    D = get_dataset(dataset_path)\n",
        "    Train, Test, Validation = split_dataset(D, seed)\n",
        "    X_te, Y_te = get_data_labels(Test)\n",
        "    X_tr, Y_tr = get_data_labels(Train)\n",
        "    X_v, Y_v = get_data_labels(Validation)\n",
        " \n",
        "    X_train = reshape_data(X_tr)\n",
        "    X_test = reshape_data(X_te)\n",
        "    X_validation = reshape_data(X_v)\n",
        " \n",
        "    Y_train = resphape_labels(Y_tr)\n",
        "    Y_test = resphape_labels(Y_te)\n",
        "    Y_validation = resphape_labels(Y_v)\n",
        " \n",
        "    return X_train, X_validation, X_test, Y_train, Y_validation, Y_test\n",
        " \n",
        "def split_dataset(Dataset, seed=None):\n",
        "    np.random.seed(seed)\n",
        "    np.random.shuffle(Dataset)\n",
        "    train_split = int(Dataset.shape[0]*0.8)\n",
        "    test_val_split = int(Dataset.shape[0]*0.1)\n",
        "    Train = Dataset[0:train_split, :, :]\n",
        "    Test = Dataset[train_split:train_split+test_val_split, :, :]\n",
        "    Validation = Dataset[train_split+test_val_split:, :, :]\n",
        "    return Train, Test, Validation\n",
        " \n",
        "\n",
        "    return X_train, X_validation, X_test, Y_train, Y_validation, Y_test\n",
        " \n",
        "do_log = True\n",
        "stop_early = False\n",
        "show_plots = True\n",
        " \n",
        "start_time = timer()\n",
        " \n",
        "print(\"Collecting Dataset...\")\n",
        " \n",
        "if filtered:\n",
        "    # Split the dataset in 0.8 train, 0.1 test, 0.1 validation with shuffle (optionally seed)\n",
        "    X_train, X_val, X_test, Y_train, Y_val, Y_test = get_dataset_reshaped(seed=100)\n",
        "else:\n",
        "    # Slit the dataset with the same indexes used in the paper (Only for CullPDB6133 not filtered)\n",
        "    X_train, X_val, X_test, Y_train, Y_val, Y_test = get_resphaped_dataset_paper()\n",
        " \n",
        "end_time = timer()\n",
        "print(\"\\n\\nTime elapsed getting Dataset: \" + \"{0:.2f}\".format((end_time - start_time)) + \" s\")\n",
        " \n",
        "if filtered:\n",
        "    print(\"Using CullPDB Filtered dataset\")\n",
        " \n",
        " \n",
        "LR = 0.0009 \n",
        "drop_out = 0.38\n",
        "batch_dim = 64\n",
        "nn_epochs = 35\n",
        " \n",
        "#loss = 'categorical_hinge'\n",
        "loss = 'categorical_crossentropy' \n",
        "#loss = 'mean_absolute_error' \n",
        "#loss = 'mean_squared_logarithmic_error'\n",
        " \n",
        "\n",
        "def CNN_model():\n",
        "    m = Sequential()\n",
        "    m.add(Conv1D(128, 5, padding='same', activation='relu', input_shape=(cnn_width, amino_acid_residues)))\n",
        "    m.add(BatchNormalization())\n",
        "    # m.add(MaxPooling1D(pool_size=2))\n",
        "    m.add(Dropout(drop_out))\n",
        "    m.add(Conv1D(128, 3, padding='same', activation='relu'))\n",
        "    m.add(BatchNormalization())\n",
        "    # m.add(MaxPooling1D(pool_size=2))\n",
        "    m.add(Dropout(drop_out))\n",
        "    m.add(Conv1D(64, 3, padding='same', activation='relu'))\n",
        "    m.add(BatchNormalization())\n",
        "    # m.add(MaxPooling1D(pool_size=2))\n",
        "    m.add(Dropout(drop_out))\n",
        "    # m.add(Conv1D(32, 3, padding='same', activation='relu'))\n",
        "    # m.add(BatchNormalization())\n",
        "    # m.add(MaxPooling1D(pool_size=2))\n",
        "    # m.add(Dropout(drop_out))\n",
        "    m.add(Flatten())\n",
        "    m.add(Dense(128, activation='relu'))\n",
        "    m.add(Dense(32, activation='relu'))\n",
        "    m.add(Dense(num_classes, activation = 'softmax'))\n",
        "    opt = optimizers.Adam(lr=LR)\n",
        "    m.compile(optimizer=opt,\n",
        "              loss=loss,\n",
        "              metrics=['accuracy', 'mae'])\n",
        "    \n",
        "    return m\n",
        " \n",
        " \n",
        " \n",
        "net = CNN_model()\n",
        "print(net.summary())\n",
        "history = net.fit(X_train, Y_train, epochs=nn_epochs, batch_size=batch_dim, shuffle=True,\n",
        "                        validation_data=(X_val, Y_val))\n",
        " \n",
        "scores = net.evaluate(X_test, Y_test)\n",
        "print(\"Loss: \" + str(scores[0]) + \", Accuracy: \" + str(scores[1]) + \", MAE: \" + str(scores[2]))"
      ],
      "execution_count": null,
      "outputs": [
        {
          "output_type": "stream",
          "text": [
            "Collecting Dataset...\n",
            "\n",
            "\n",
            "Time elapsed getting Dataset: 15.80 s\n",
            "Using CullPDB Filtered dataset\n",
            "Model: \"sequential\"\n",
            "_________________________________________________________________\n",
            "Layer (type)                 Output Shape              Param #   \n",
            "=================================================================\n",
            "conv1d (Conv1D)              (None, 17, 128)           13568     \n",
            "_________________________________________________________________\n",
            "batch_normalization (BatchNo (None, 17, 128)           512       \n",
            "_________________________________________________________________\n",
            "dropout (Dropout)            (None, 17, 128)           0         \n",
            "_________________________________________________________________\n",
            "conv1d_1 (Conv1D)            (None, 17, 128)           49280     \n",
            "_________________________________________________________________\n",
            "batch_normalization_1 (Batch (None, 17, 128)           512       \n",
            "_________________________________________________________________\n",
            "dropout_1 (Dropout)          (None, 17, 128)           0         \n",
            "_________________________________________________________________\n",
            "conv1d_2 (Conv1D)            (None, 17, 64)            24640     \n",
            "_________________________________________________________________\n",
            "batch_normalization_2 (Batch (None, 17, 64)            256       \n",
            "_________________________________________________________________\n",
            "dropout_2 (Dropout)          (None, 17, 64)            0         \n",
            "_________________________________________________________________\n",
            "flatten (Flatten)            (None, 1088)              0         \n",
            "_________________________________________________________________\n",
            "dense (Dense)                (None, 128)               139392    \n",
            "_________________________________________________________________\n",
            "dense_1 (Dense)              (None, 32)                4128      \n",
            "_________________________________________________________________\n",
            "dense_2 (Dense)              (None, 8)                 264       \n",
            "=================================================================\n",
            "Total params: 232,552\n",
            "Trainable params: 231,912\n",
            "Non-trainable params: 640\n",
            "_________________________________________________________________\n",
            "None\n",
            "Epoch 1/35\n",
            "14801/14801 [==============================] - 73s 5ms/step - loss: 0.9354 - accuracy: 0.6632 - mae: 0.1104 - val_loss: 0.8622 - val_accuracy: 0.6873 - val_mae: 0.1015\n",
            "Epoch 2/35\n",
            "14801/14801 [==============================] - 72s 5ms/step - loss: 0.8720 - accuracy: 0.6850 - mae: 0.1042 - val_loss: 0.8358 - val_accuracy: 0.6951 - val_mae: 0.0990\n",
            "Epoch 3/35\n",
            "14801/14801 [==============================] - 73s 5ms/step - loss: 0.8532 - accuracy: 0.6910 - mae: 0.1022 - val_loss: 0.8206 - val_accuracy: 0.7001 - val_mae: 0.1000\n",
            "Epoch 4/35\n",
            "14801/14801 [==============================] - 72s 5ms/step - loss: 0.8416 - accuracy: 0.6954 - mae: 0.1009 - val_loss: 0.8127 - val_accuracy: 0.7033 - val_mae: 0.0995\n",
            "Epoch 5/35\n",
            "14801/14801 [==============================] - 71s 5ms/step - loss: 0.8332 - accuracy: 0.6984 - mae: 0.1001 - val_loss: 0.8085 - val_accuracy: 0.7039 - val_mae: 0.0969\n",
            "Epoch 6/35\n",
            "14801/14801 [==============================] - 71s 5ms/step - loss: 0.8272 - accuracy: 0.7001 - mae: 0.0994 - val_loss: 0.8082 - val_accuracy: 0.7048 - val_mae: 0.0969\n",
            "Epoch 7/35\n",
            "14801/14801 [==============================] - 70s 5ms/step - loss: 0.8229 - accuracy: 0.7020 - mae: 0.0990 - val_loss: 0.8063 - val_accuracy: 0.7062 - val_mae: 0.0956\n",
            "Epoch 8/35\n",
            "14801/14801 [==============================] - 70s 5ms/step - loss: 0.8189 - accuracy: 0.7032 - mae: 0.0985 - val_loss: 0.8091 - val_accuracy: 0.7066 - val_mae: 0.0977\n",
            "Epoch 9/35\n",
            "14801/14801 [==============================] - 69s 5ms/step - loss: 0.8161 - accuracy: 0.7044 - mae: 0.0982 - val_loss: 0.7958 - val_accuracy: 0.7086 - val_mae: 0.0969\n",
            "Epoch 10/35\n",
            "14801/14801 [==============================] - 69s 5ms/step - loss: 0.8135 - accuracy: 0.7052 - mae: 0.0979 - val_loss: 0.7948 - val_accuracy: 0.7095 - val_mae: 0.0953\n",
            "Epoch 11/35\n",
            "14801/14801 [==============================] - 69s 5ms/step - loss: 0.8103 - accuracy: 0.7063 - mae: 0.0976 - val_loss: 0.7927 - val_accuracy: 0.7105 - val_mae: 0.0957\n",
            "Epoch 12/35\n",
            "14801/14801 [==============================] - 70s 5ms/step - loss: 0.8088 - accuracy: 0.7065 - mae: 0.0974 - val_loss: 0.7914 - val_accuracy: 0.7107 - val_mae: 0.0956\n",
            "Epoch 13/35\n",
            "14801/14801 [==============================] - 69s 5ms/step - loss: 0.8071 - accuracy: 0.7074 - mae: 0.0972 - val_loss: 0.7922 - val_accuracy: 0.7121 - val_mae: 0.0960\n",
            "Epoch 14/35\n",
            "14801/14801 [==============================] - 69s 5ms/step - loss: 0.8052 - accuracy: 0.7080 - mae: 0.0970 - val_loss: 0.7898 - val_accuracy: 0.7123 - val_mae: 0.0937\n",
            "Epoch 15/35\n",
            "14801/14801 [==============================] - 69s 5ms/step - loss: 0.8045 - accuracy: 0.7086 - mae: 0.0969 - val_loss: 0.7879 - val_accuracy: 0.7119 - val_mae: 0.0956\n",
            "Epoch 16/35\n",
            "14801/14801 [==============================] - 70s 5ms/step - loss: 0.8033 - accuracy: 0.7085 - mae: 0.0968 - val_loss: 0.7889 - val_accuracy: 0.7116 - val_mae: 0.0952\n",
            "Epoch 17/35\n",
            "14801/14801 [==============================] - 69s 5ms/step - loss: 0.8012 - accuracy: 0.7096 - mae: 0.0966 - val_loss: 0.7900 - val_accuracy: 0.7122 - val_mae: 0.0973\n",
            "Epoch 18/35\n",
            "14801/14801 [==============================] - 70s 5ms/step - loss: 0.8000 - accuracy: 0.7098 - mae: 0.0964 - val_loss: 0.7872 - val_accuracy: 0.7110 - val_mae: 0.0953\n",
            "Epoch 19/35\n",
            "14801/14801 [==============================] - 69s 5ms/step - loss: 0.7994 - accuracy: 0.7098 - mae: 0.0964 - val_loss: 0.7909 - val_accuracy: 0.7124 - val_mae: 0.0949\n",
            "Epoch 20/35\n",
            "14801/14801 [==============================] - 69s 5ms/step - loss: 0.7983 - accuracy: 0.7104 - mae: 0.0963 - val_loss: 0.7878 - val_accuracy: 0.7134 - val_mae: 0.0946\n",
            "Epoch 21/35\n",
            "14801/14801 [==============================] - 71s 5ms/step - loss: 0.7967 - accuracy: 0.7111 - mae: 0.0961 - val_loss: 0.7851 - val_accuracy: 0.7140 - val_mae: 0.0945\n",
            "Epoch 22/35\n",
            "14801/14801 [==============================] - 71s 5ms/step - loss: 0.7963 - accuracy: 0.7113 - mae: 0.0960 - val_loss: 0.7871 - val_accuracy: 0.7131 - val_mae: 0.0937\n",
            "Epoch 23/35\n",
            "14801/14801 [==============================] - 71s 5ms/step - loss: 0.7962 - accuracy: 0.7115 - mae: 0.0960 - val_loss: 0.7851 - val_accuracy: 0.7141 - val_mae: 0.0965\n",
            "Epoch 24/35\n",
            "14801/14801 [==============================] - 71s 5ms/step - loss: 0.7947 - accuracy: 0.7119 - mae: 0.0959 - val_loss: 0.7852 - val_accuracy: 0.7147 - val_mae: 0.0935\n",
            "Epoch 25/35\n",
            "14801/14801 [==============================] - 72s 5ms/step - loss: 0.7943 - accuracy: 0.7120 - mae: 0.0958 - val_loss: 0.7842 - val_accuracy: 0.7148 - val_mae: 0.0946\n",
            "Epoch 26/35\n",
            "14801/14801 [==============================] - 72s 5ms/step - loss: 0.7939 - accuracy: 0.7121 - mae: 0.0958 - val_loss: 0.7870 - val_accuracy: 0.7148 - val_mae: 0.0932\n",
            "Epoch 27/35\n",
            "14801/14801 [==============================] - 71s 5ms/step - loss: 0.7928 - accuracy: 0.7122 - mae: 0.0957 - val_loss: 0.7845 - val_accuracy: 0.7127 - val_mae: 0.0956\n",
            "Epoch 28/35\n",
            "14801/14801 [==============================] - 71s 5ms/step - loss: 0.7921 - accuracy: 0.7122 - mae: 0.0956 - val_loss: 0.7827 - val_accuracy: 0.7152 - val_mae: 0.0950\n",
            "Epoch 29/35\n",
            "14801/14801 [==============================] - 71s 5ms/step - loss: 0.7913 - accuracy: 0.7127 - mae: 0.0955 - val_loss: 0.7880 - val_accuracy: 0.7151 - val_mae: 0.0908\n",
            "Epoch 30/35\n",
            "14801/14801 [==============================] - 74s 5ms/step - loss: 0.7910 - accuracy: 0.7129 - mae: 0.0955 - val_loss: 0.7837 - val_accuracy: 0.7149 - val_mae: 0.0935\n",
            "Epoch 31/35\n",
            "14801/14801 [==============================] - 72s 5ms/step - loss: 0.7906 - accuracy: 0.7128 - mae: 0.0954 - val_loss: 0.7811 - val_accuracy: 0.7152 - val_mae: 0.0931\n",
            "Epoch 32/35\n",
            "14801/14801 [==============================] - 72s 5ms/step - loss: 0.7901 - accuracy: 0.7130 - mae: 0.0954 - val_loss: 0.7822 - val_accuracy: 0.7150 - val_mae: 0.0945\n",
            "Epoch 33/35\n",
            "14801/14801 [==============================] - 72s 5ms/step - loss: 0.7896 - accuracy: 0.7136 - mae: 0.0953 - val_loss: 0.7826 - val_accuracy: 0.7146 - val_mae: 0.0928\n",
            "Epoch 34/35\n",
            "14801/14801 [==============================] - 74s 5ms/step - loss: 0.7889 - accuracy: 0.7134 - mae: 0.0953 - val_loss: 0.7833 - val_accuracy: 0.7151 - val_mae: 0.0913\n",
            "Epoch 35/35\n",
            "14801/14801 [==============================] - 73s 5ms/step - loss: 0.7895 - accuracy: 0.7137 - mae: 0.0953 - val_loss: 0.7809 - val_accuracy: 0.7149 - val_mae: 0.0946\n",
            "3592/3592 [==============================] - 9s 2ms/step - loss: 0.7798 - accuracy: 0.7183 - mae: 0.0937\n",
            "Loss: 0.7798191905021667, Accuracy: 0.7182641625404358, MAE: 0.09368821233510971\n"
          ],
          "name": "stdout"
        }
      ]
    },
    {
      "cell_type": "code",
      "metadata": {
        "id": "lTyl_rwhbVjJ",
        "colab": {
          "base_uri": "https://localhost:8080/",
          "height": 300
        },
        "outputId": "deea6083-36f7-4bbd-9671-f78f1981805c"
      },
      "source": [
        "import matplotlib.pyplot as plt\n",
        "plt.plot(history.history['accuracy'], label='accuracy')\n",
        "plt.plot(history.history['val_accuracy'], label = 'val_accuracy')\n",
        "plt.xlabel('Epoch')\n",
        "plt.ylabel('Accuracy')\n",
        "plt.ylim([0.67, 0.72])\n",
        "plt.legend(loc='lower right')"
      ],
      "execution_count": null,
      "outputs": [
        {
          "output_type": "execute_result",
          "data": {
            "text/plain": [
              "<matplotlib.legend.Legend at 0x7fdfe004ffd0>"
            ]
          },
          "metadata": {
            "tags": []
          },
          "execution_count": 3
        },
        {
          "output_type": "display_data",
          "data": {
            "image/png": "[encoded data removed]",
            "text/plain": [
              "<Figure size 432x288 with 1 Axes>"
            ]
          },
          "metadata": {
            "tags": [],
            "needs_background": "light"
          }
        }
      ]
    },
    {
      "cell_type": "code",
      "metadata": {
        "id": "0eTgeCCRrMYC",
        "colab": {
          "base_uri": "https://localhost:8080/",
          "height": 300
        },
        "outputId": "e641c034-0c41-451d-9206-12de1b1cf9df"
      },
      "source": [
        "import matplotlib.pyplot as plt\n",
        "plt.plot(history.history['loss'], label='loss')\n",
        "plt.plot(history.history['val_loss'], label = 'val_loss')\n",
        "plt.xlabel('Epoch')\n",
        "plt.ylabel('Loss')\n",
        "plt.ylim([0.78, 0.92])\n",
        "plt.legend(loc='upper right')"
      ],
      "execution_count": null,
      "outputs": [
        {
          "output_type": "execute_result",
          "data": {
            "text/plain": [
              "<matplotlib.legend.Legend at 0x7fdf7cfb9588>"
            ]
          },
          "metadata": {
            "tags": []
          },
          "execution_count": 4
        },
        {
          "output_type": "display_data",
          "data": {
            "image/png": "[encoded data removed]",
            "text/plain": [
              "<Figure size 432x288 with 1 Axes>"
            ]
          },
          "metadata": {
            "tags": [],
            "needs_background": "light"
          }
        }
      ]
    },
    {
      "cell_type": "code",
      "metadata": {
        "id": "gDny-DH8rWCs",
        "colab": {
          "base_uri": "https://localhost:8080/",
          "height": 300
        },
        "outputId": "b86c6823-70cb-4041-eaec-fa24e41cd48e"
      },
      "source": [
        "import matplotlib.pyplot as plt\n",
        "plt.plot(history.history['mae'], label='mae')\n",
        "plt.plot(history.history['val_mae'], label = 'val_mae')\n",
        "plt.xlabel('Epoch')\n",
        "plt.ylabel('mae')\n",
        "plt.xlim([0,35])\n",
        "plt.ylim([0.09, 0.11])\n",
        "plt.legend(loc='upper right')"
      ],
      "execution_count": null,
      "outputs": [
        {
          "output_type": "execute_result",
          "data": {
            "text/plain": [
              "<matplotlib.legend.Legend at 0x7fdf7cb51c18>"
            ]
          },
          "metadata": {
            "tags": []
          },
          "execution_count": 5
        },
        {
          "output_type": "display_data",
          "data": {
            "image/png": "[encoded data removed]",
            "text/plain": [
              "<Figure size 432x288 with 1 Axes>"
            ]
          },
          "metadata": {
            "tags": [],
            "needs_background": "light"
          }
        }
      ]
    },
    {
      "cell_type": "code",
      "metadata": {
        "id": "mUjZg-kNrffM",
        "colab": {
          "base_uri": "https://localhost:8080/",
          "height": 170
        },
        "outputId": "cca852b1-6e56-4485-99c6-5f7f776b7f27"
      },
      "source": [
        "net.predict(X_test[:4])"
      ],
      "execution_count": null,
      "outputs": [
        {
          "output_type": "execute_result",
          "data": {
            "text/plain": [
              "array([[1.00000000e+00, 2.10360885e-26, 1.02977217e-10, 1.00875955e-28,\n",
              "        0.00000000e+00, 1.23899331e-13, 5.51022509e-12, 1.24774365e-14],\n",
              "       [8.43977571e-01, 2.38450840e-02, 5.26789501e-02, 9.79629252e-03,\n",
              "        4.98238506e-10, 4.26482596e-02, 2.16519949e-03, 2.48885788e-02],\n",
              "       [5.12808800e-01, 1.61827356e-02, 2.80735224e-01, 3.32096033e-02,\n",
              "        5.74077285e-06, 6.08463772e-02, 5.63057251e-02, 3.99057195e-02],\n",
              "       [3.40042204e-01, 1.25434482e-02, 4.46180284e-01, 2.96869297e-02,\n",
              "        3.91242338e-06, 7.08803162e-02, 7.38863051e-02, 2.67765671e-02]],\n",
              "      dtype=float32)"
            ]
          },
          "metadata": {
            "tags": []
          },
          "execution_count": 6
        }
      ]
    },
    {
      "cell_type": "code",
      "metadata": {
        "id": "ldzJs-9MrrpJ",
        "colab": {
          "base_uri": "https://localhost:8080/",
          "height": 85
        },
        "outputId": "16b961c7-9b71-4cd1-ceaf-b219540fbc46"
      },
      "source": [
        "Y_test[:4]"
      ],
      "execution_count": null,
      "outputs": [
        {
          "output_type": "execute_result",
          "data": {
            "text/plain": [
              "array([[1., 0., 0., 0., 0., 0., 0., 0.],\n",
              "       [1., 0., 0., 0., 0., 0., 0., 0.],\n",
              "       [1., 0., 0., 0., 0., 0., 0., 0.],\n",
              "       [1., 0., 0., 0., 0., 0., 0., 0.]])"
            ]
          },
          "metadata": {
            "tags": []
          },
          "execution_count": 7
        }
      ]
    },
    {
      "cell_type": "code",
      "metadata": {
        "id": "x5CHqGqzr2WW"
      },
      "source": [
        ""
      ],
      "execution_count": null,
      "outputs": []
    }
  ]
}